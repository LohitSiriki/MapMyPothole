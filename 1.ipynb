{
 "cells": [
  {
   "cell_type": "code",
   "execution_count": 15,
   "metadata": {},
   "outputs": [],
   "source": [
    "import cv2\n",
    "import numpy as np\n",
    "import matplotlib.pyplot as plt"
   ]
  },
  {
   "cell_type": "code",
   "execution_count": 16,
   "metadata": {},
   "outputs": [],
   "source": [
    "def preprocess_image(image):\n",
    "    # resizing and grayscaling the image\n",
    "    resized_image = cv2.resize(image, (250, 250))\n",
    "    grayscale_image = cv2.cvtColor(resized_image, cv2.COLOR_BGR2GRAY)\n",
    "\n",
    "    return(grayscale_image)\n",
    "\n",
    "# img = cv2.imread(\"Images/pothole1.jpg\")\n",
    "# processed_image = preprocess_image(img)\n",
    "# plt.imshow(processed_image, cmap='gray')\n",
    "# # print(preprocess_image(img))"
   ]
  },
  {
   "cell_type": "code",
   "execution_count": 17,
   "metadata": {},
   "outputs": [],
   "source": [
    "def measure_depth(image):\n",
    "    # measure depth (assuming darker regions indicate deeper areas)\n",
    "    depth_score = np.mean(image)/255.0\n",
    "\n",
    "    return(depth_score)"
   ]
  },
  {
   "cell_type": "code",
   "execution_count": 18,
   "metadata": {},
   "outputs": [],
   "source": [
    "def measure_size(image):\n",
    "    # measuring size of pothole, assuming larger areas indicate larger ppotholes\n",
    "    size_score = np.count_nonzero(image) / (image.shape[0] * image.shape[1])\n",
    "\n",
    "    return (size_score)"
   ]
  },
  {
   "cell_type": "code",
   "execution_count": 19,
   "metadata": {},
   "outputs": [],
   "source": [
    "def measure_texture(image):\n",
    "    # Assuming more edges indicate rougher texture\n",
    "    edges = cv2.Canny(image, 50, 150)\n",
    "    texture_score = np.count_nonzero(edges) / (image.shape[1] * image.shape[1])\n",
    "\n",
    "    return (texture_score)"
   ]
  },
  {
   "cell_type": "code",
   "execution_count": 20,
   "metadata": {},
   "outputs": [],
   "source": [
    "def combine_features(depth_score, size_score, texture_score):\n",
    "    composite_metric = (depth_score + texture_score + size_score) / 3.0\n",
    "\n",
    "    return composite_metric"
   ]
  },
  {
   "cell_type": "code",
   "execution_count": 21,
   "metadata": {},
   "outputs": [],
   "source": [
    "def calculate_severity_metric(image):\n",
    "    image = cv2.imread(image)\n",
    "    preprocessed_image = preprocess_image(image)\n",
    "    depth_score = measure_depth(preprocessed_image)\n",
    "    size_score = measure_size(preprocessed_image)\n",
    "    texture_score = measure_texture(preprocessed_image)\n",
    "\n",
    "    composite_metric = combine_features(depth_score, size_score, texture_score)\n",
    "\n",
    "    return(composite_metric)"
   ]
  },
  {
   "cell_type": "code",
   "execution_count": 24,
   "metadata": {},
   "outputs": [
    {
     "name": "stdout",
     "output_type": "stream",
     "text": [
      "0.5695821803921569\n"
     ]
    }
   ],
   "source": [
    "image_path = \"Images/pothole2.jpg\"\n",
    "severity_metric = calculate_severity_metric(image_path)\n",
    "print(severity_metric)"
   ]
  },
  {
   "cell_type": "code",
   "execution_count": 5,
   "metadata": {},
   "outputs": [
    {
     "ename": "ModuleNotFoundError",
     "evalue": "No module named 'keras.engine'",
     "output_type": "error",
     "traceback": [
      "\u001b[1;31m---------------------------------------------------------------------------\u001b[0m",
      "\u001b[1;31mModuleNotFoundError\u001b[0m                       Traceback (most recent call last)",
      "\u001b[1;32mc:\\Users\\sirik\\OneDrive\\Desktop\\adas\\pothole_detection_final\\1.ipynb Cell 9\u001b[0m line \u001b[0;36m8\n\u001b[0;32m      <a href='vscode-notebook-cell:/c%3A/Users/sirik/OneDrive/Desktop/adas/pothole_detection_final/1.ipynb#X11sZmlsZQ%3D%3D?line=5'>6</a>\u001b[0m \u001b[39mfrom\u001b[39;00m \u001b[39mtensorflow\u001b[39;00m \u001b[39mimport\u001b[39;00m keras\n\u001b[0;32m      <a href='vscode-notebook-cell:/c%3A/Users/sirik/OneDrive/Desktop/adas/pothole_detection_final/1.ipynb#X11sZmlsZQ%3D%3D?line=6'>7</a>\u001b[0m \u001b[39mfrom\u001b[39;00m \u001b[39mmrcnn\u001b[39;00m\u001b[39m.\u001b[39;00m\u001b[39mconfig\u001b[39;00m \u001b[39mimport\u001b[39;00m Config\n\u001b[1;32m----> <a href='vscode-notebook-cell:/c%3A/Users/sirik/OneDrive/Desktop/adas/pothole_detection_final/1.ipynb#X11sZmlsZQ%3D%3D?line=7'>8</a>\u001b[0m \u001b[39mfrom\u001b[39;00m \u001b[39mmrcnn\u001b[39;00m \u001b[39mimport\u001b[39;00m model \u001b[39mas\u001b[39;00m modellib, utils\n\u001b[0;32m     <a href='vscode-notebook-cell:/c%3A/Users/sirik/OneDrive/Desktop/adas/pothole_detection_final/1.ipynb#X11sZmlsZQ%3D%3D?line=9'>10</a>\u001b[0m \u001b[39m# Define the configuration for the Mask R-CNN model\u001b[39;00m\n\u001b[0;32m     <a href='vscode-notebook-cell:/c%3A/Users/sirik/OneDrive/Desktop/adas/pothole_detection_final/1.ipynb#X11sZmlsZQ%3D%3D?line=10'>11</a>\u001b[0m \u001b[39mclass\u001b[39;00m \u001b[39mPotholeConfig\u001b[39;00m(Config):\n",
      "File \u001b[1;32mc:\\Users\\sirik\\anaconda3\\Lib\\site-packages\\mrcnn\\model.py:23\u001b[0m\n\u001b[0;32m     21\u001b[0m \u001b[39mimport\u001b[39;00m \u001b[39mkeras\u001b[39;00m\u001b[39m.\u001b[39;00m\u001b[39mbackend\u001b[39;00m \u001b[39mas\u001b[39;00m \u001b[39mK\u001b[39;00m\n\u001b[0;32m     22\u001b[0m \u001b[39mimport\u001b[39;00m \u001b[39mkeras\u001b[39;00m\u001b[39m.\u001b[39;00m\u001b[39mlayers\u001b[39;00m \u001b[39mas\u001b[39;00m \u001b[39mKL\u001b[39;00m\n\u001b[1;32m---> 23\u001b[0m \u001b[39mimport\u001b[39;00m \u001b[39mkeras\u001b[39;00m\u001b[39m.\u001b[39;00m\u001b[39mengine\u001b[39;00m \u001b[39mas\u001b[39;00m \u001b[39mKE\u001b[39;00m\n\u001b[0;32m     24\u001b[0m \u001b[39mimport\u001b[39;00m \u001b[39mkeras\u001b[39;00m\u001b[39m.\u001b[39;00m\u001b[39mmodels\u001b[39;00m \u001b[39mas\u001b[39;00m \u001b[39mKM\u001b[39;00m\n\u001b[0;32m     26\u001b[0m \u001b[39mfrom\u001b[39;00m \u001b[39mmrcnn\u001b[39;00m \u001b[39mimport\u001b[39;00m utils\n",
      "\u001b[1;31mModuleNotFoundError\u001b[0m: No module named 'keras.engine'"
     ]
    }
   ],
   "source": [
    "# Install the required libraries\n",
    "# pip install numpy opencv-python mrcnn\n",
    "\n",
    "import cv2\n",
    "import numpy as np\n",
    "from tensorflow import keras\n",
    "from mrcnn.config import Config\n",
    "from mrcnn import model as modellib, utils\n",
    "\n",
    "# Define the configuration for the Mask R-CNN model\n",
    "class PotholeConfig(Config):\n",
    "    NAME = \"pothole\"\n",
    "    IMAGES_PER_GPU = 1\n",
    "    NUM_CLASSES = 2  # Background + Pothole\n",
    "\n",
    "# Create the Mask R-CNN model\n",
    "model = modellib.MaskRCNN(mode=\"inference\", config=PotholeConfig(), model_dir='.')\n",
    "\n",
    "# Load the pre-trained weights for the COCO dataset\n",
    "model.load_weights('mask_rcnn_coco.h5', by_name=True)\n",
    "\n",
    "def calculate_pothole_severity(image_path):\n",
    "    # Read the pothole image\n",
    "    pothole_image = cv2.imread(image_path)\n",
    "\n",
    "    # Run the Mask R-CNN model to perform instance segmentation\n",
    "    results = model.detect([pothole_image], verbose=0)\n",
    "    r = results[0]\n",
    "\n",
    "    # Calculate severity based on the area of detected potholes\n",
    "    severity = 0\n",
    "    for i in range(r['rois'].shape[0]):\n",
    "        mask = r['masks'][:, :, i]\n",
    "        pothole_area = np.sum(mask)\n",
    "        severity += pothole_area  # You can adjust this metric as needed\n",
    "\n",
    "    return severity\n",
    "\n",
    "# Example usage:\n",
    "image_path = \"/Images/pothole1.jpg\"\n",
    "severity_metric = calculate_pothole_severity(image_path)\n",
    "print(\"Pothole Severity:\", severity_metric)\n"
   ]
  }
 ],
 "metadata": {
  "kernelspec": {
   "display_name": "base",
   "language": "python",
   "name": "python3"
  },
  "language_info": {
   "codemirror_mode": {
    "name": "ipython",
    "version": 3
   },
   "file_extension": ".py",
   "mimetype": "text/x-python",
   "name": "python",
   "nbconvert_exporter": "python",
   "pygments_lexer": "ipython3",
   "version": "3.11.5"
  }
 },
 "nbformat": 4,
 "nbformat_minor": 2
}
